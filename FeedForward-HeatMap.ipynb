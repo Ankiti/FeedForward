{
 "cells": [
  {
   "cell_type": "code",
   "execution_count": 6,
   "id": "a5b9e062",
   "metadata": {},
   "outputs": [],
   "source": [
    "import json \n",
    "from geopy.geocoders import Nominatim\n",
    "import folium\n",
    "import pandas as pd"
   ]
  },
  {
   "cell_type": "code",
   "execution_count": 7,
   "id": "fe563932",
   "metadata": {},
   "outputs": [],
   "source": [
    "# load data from json file\n",
    "with open('data_updated.json') as json_file:\n",
    "    data = json.load(json_file)\n",
    "    \n",
    "    \n",
    "#store addresses after being geocoded \n",
    "geocoded_data = []\n",
    "\n",
    "# use Nominatim to create heatmap\n",
    "geolocator = Nominatim(user_agent=\"heatmap_app\")\n"
   ]
  },
  {
   "cell_type": "code",
   "execution_count": 8,
   "id": "05a57e6c",
   "metadata": {},
   "outputs": [],
   "source": [
    "for item in data:\n",
    "    address = item['home_address']\n",
    "    location = geolocator.geocode(address)\n",
    "    #print('this is address', address, 'this is location', location.latitude)\n",
    "\n",
    "    if location:\n",
    "        geocoded_data.append({\n",
    "            'ParentName': item['parent_name'],\n",
    "            'HomeAddress': address,\n",
    "            'Latitude': location.latitude,\n",
    "            'Longitude': location.longitude,\n",
    "            'Importance': item['importance']\n",
    "        })\n"
   ]
  },
  {
   "cell_type": "code",
   "execution_count": 11,
   "id": "0fbb585c",
   "metadata": {},
   "outputs": [],
   "source": [
    "# Create a DataFrame from the geocoded data\n",
    "df = pd.DataFrame(geocoded_data)\n",
    "\n",
    "# Initialize a map centered around a location (e.g., Waterloo, ON)\n",
    "m = folium.Map(location=[43.4643, -80.5204], zoom_start=13,tiles='OpenStreetMap')\n",
    "\n",
    "# Add markers to the map based on DataFrame\n",
    "#child_icon = folium.CustomIcon(icon_image='child-solid.png', icon_size=(40, 40))\n",
    "\n",
    "for index, row in df.iterrows():\n",
    "    \n",
    "    info = f\"Parent: {row['ParentName']}<br>Home Address: {row['HomeAddress']}<br>Importance: {row['Importance']}\"\n",
    "    child_icon = folium.CustomIcon(icon_image='child-solid.png', icon_size=(13, 20))\n",
    "    folium.Marker(\n",
    "        location=[row['Latitude'], row['Longitude']],\n",
    "        popup=folium.Popup(info, max_width=300),\n",
    "        #icon=folium.Icon(icon='cloud')\n",
    "        icon=child_icon\n",
    "\n",
    "    ).add_to(m)\n",
    "\n",
    "# Save the map as an HTML file\n",
    "m.save('heatmap.html')"
   ]
  },
  {
   "cell_type": "code",
   "execution_count": null,
   "id": "7f470119",
   "metadata": {},
   "outputs": [],
   "source": []
  },
  {
   "cell_type": "code",
   "execution_count": null,
   "id": "77716207",
   "metadata": {},
   "outputs": [],
   "source": []
  },
  {
   "cell_type": "code",
   "execution_count": null,
   "id": "c9f6e88d",
   "metadata": {},
   "outputs": [],
   "source": []
  },
  {
   "cell_type": "code",
   "execution_count": null,
   "id": "c4f4e7a9",
   "metadata": {},
   "outputs": [],
   "source": []
  }
 ],
 "metadata": {
  "kernelspec": {
   "display_name": "Python 3 (ipykernel)",
   "language": "python",
   "name": "python3"
  },
  "language_info": {
   "codemirror_mode": {
    "name": "ipython",
    "version": 3
   },
   "file_extension": ".py",
   "mimetype": "text/x-python",
   "name": "python",
   "nbconvert_exporter": "python",
   "pygments_lexer": "ipython3",
   "version": "3.10.9"
  }
 },
 "nbformat": 4,
 "nbformat_minor": 5
}
